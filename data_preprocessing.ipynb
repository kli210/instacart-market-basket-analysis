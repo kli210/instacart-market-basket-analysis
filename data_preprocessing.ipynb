{
 "cells": [
  {
   "cell_type": "markdown",
   "metadata": {},
   "source": [
    "# Data Preprocessing - Instacart Dataset\n",
    "\n",
    "Author: Kelly Li"
   ]
  },
  {
   "cell_type": "markdown",
   "metadata": {},
   "source": [
    "## Table of Contents:\n",
    "* [1 Introduction](#one)\n",
    "* [2 Datasets](#two)\n",
    "    * [2.1 Data Sources](#twoone)\n",
    "    * [2.2 Data Import & Summary](#twotwo)\n",
    "* [3 Data Cleaning](#three)\n",
    "    * [3.1 Data Types](#threeone) \n",
    "    * [3.2 Missing Data](#threetwo)\n",
    "    * [3.3 Duplicate Data](#threethree)\n",
    "    * [3.4 Outliers](#threefour)\n",
    "    * [3.5 Zero Ratings](#threefive)\n",
    "* [4 Data Preprocessing](#four)\n",
    "    * [4.1 Feature Engineering](#fourone)\n",
    "        * [4.1.1 Nutritional Values](#fouroneone)\n",
    "        * [4.1.2 Time Components](#fouronetwo)\n",
    "        * [4.1.3 Dietary Preference](#fouronethree)\n",
    "    * [4.2 Aggregation](#fourtwo)\n",
    "        * [4.2.1 Ratings](#fourtwoone)\n",
    "        * [4.2.2 Merge Datasets](#fourtwotwo)\n",
    "* [5 Conclusion](#five)\n",
    "\n",
    "---"
   ]
  },
  {
   "cell_type": "markdown",
   "metadata": {},
   "source": [
    "## 1 Introduction <a class=\"anchor\" id=\"one\"></a>"
   ]
  },
  {
   "cell_type": "markdown",
   "metadata": {},
   "source": [
    "Welcome to the Data Preprocessing phase of the Instacart Market Basket Analysis (MBA) project. In this Jupyter Notebook, we will delve into the intricacies of preparing and cleaning the Instacart dataset, laying the foundation for insightful analysis and modeling.\n",
    "\n",
    "### Project Rationale\n",
    "**Why Instacart?**\n",
    "\n",
    "This project was inspired by a passion for data science and a genuine interest in the realm of consumer behavior and online grocery shopping. The Instacart dataset provides a rich and complex landscape of real-world data that presents a multitude of exciting analytical opportunities.\n",
    "\n",
    "**Understanding Shopping Behavior**\n",
    "\n",
    "The modern world of e-commerce has revolutionized the way consumers shop for everyday essentials. With the increasing reliance on online platforms for grocery shopping, understanding customer preferences, purchasing patterns, and product associations has become essential for both retailers and data scientists.\n",
    "\n",
    "**Extracting Insights**\n",
    "\n",
    "By undertaking this project, I aim to extract valuable insights from the dataset that can benefit both Instacart as a service provider and consumers looking for a more convenient shopping experience. Through data-driven analysis, we can uncover hidden patterns, identify trends, and develop data-driven strategies for optimizing the shopping journey.\n",
    "\n",
    "**The Power of Data**\n",
    "\n",
    "Data science is not merely about numbers and algorithms; it's about leveraging the power of data to solve real-world problems. Through this project, I hope to demonstrate how data preprocessing is the critical first step in transforming raw data into actionable insights. Clean and well-structured data empowers us to build accurate models, make informed decisions, and drive positive change.\n",
    "\n",
    "### What to Expect\n",
    "In this notebook, we will systematically address data quality issues, handle missing data, encode categorical variables, and prepare the dataset for subsequent stages of our analysis. Each step in the data preprocessing journey is a building block that contributes to the overarching goal of gaining a deeper understanding of customer behavior in the context of online grocery shopping.\n",
    "\n",
    "Let's embark on this data-driven adventure and unlock the potential insights hidden within the Instacart dataset."
   ]
  },
  {
   "cell_type": "code",
   "execution_count": null,
   "metadata": {},
   "outputs": [],
   "source": [
    "import pandas as pd\n",
    "basket_df = pd.read_csv(\"baskets.csv\")\n",
    "basket_df.head(10)"
   ]
  }
 ],
 "metadata": {
  "language_info": {
   "name": "python"
  },
  "orig_nbformat": 4
 },
 "nbformat": 4,
 "nbformat_minor": 2
}
